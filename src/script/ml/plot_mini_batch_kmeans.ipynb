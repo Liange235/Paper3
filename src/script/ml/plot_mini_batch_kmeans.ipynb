{
  "cells": [
    {
      "cell_type": "code",
      "execution_count": 1,
      "metadata": {
        "collapsed": false
      },
      "outputs": [],
      "source": [
        "%matplotlib inline"
      ]
    },
    {
      "cell_type": "markdown",
      "metadata": {},
      "source": [
        "\n",
        "# Comparison of the K-Means and MiniBatchKMeans clustering algorithms\n",
        "\n",
        "We want to compare the performance of the MiniBatchKMeans and KMeans:\n",
        "the MiniBatchKMeans is faster, but gives slightly different results (see\n",
        "`mini_batch_kmeans`).\n",
        "\n",
        "We will cluster a set of data, first with KMeans and then with\n",
        "MiniBatchKMeans, and plot the results.\n",
        "We will also plot the points that are labelled differently between the two\n",
        "algorithms.\n"
      ]
    },
    {
      "cell_type": "markdown",
      "metadata": {},
      "source": [
        "## Generate the data\n",
        "\n",
        "We start by generating the blobs of data to be clustered.\n",
        "\n"
      ]
    },
    {
      "cell_type": "code",
      "execution_count": 2,
      "metadata": {
        "collapsed": false
      },
      "outputs": [],
      "source": [
        "import numpy as np\n",
        "from sklearn.datasets import make_blobs\n",
        "\n",
        "np.random.seed(0)\n",
        "\n",
        "batch_size = 45\n",
        "centers = [[1, 1], [-1, -1], [1, -1]]\n",
        "n_clusters = len(centers)\n",
        "X, labels_true = make_blobs(n_samples=3000, centers=centers, cluster_std=0.7)"
      ]
    },
    {
      "cell_type": "markdown",
      "metadata": {},
      "source": [
        "## Compute clustering with KMeans\n",
        "\n"
      ]
    },
    {
      "cell_type": "code",
      "execution_count": 3,
      "metadata": {
        "collapsed": false
      },
      "outputs": [],
      "source": [
        "import time\n",
        "from sklearn.cluster import KMeans\n",
        "\n",
        "k_means = KMeans(init=\"k-means++\", n_clusters=3, n_init=10)\n",
        "t0 = time.time()\n",
        "k_means.fit(X)\n",
        "t_batch = time.time() - t0"
      ]
    },
    {
      "cell_type": "code",
      "execution_count": 11,
      "metadata": {},
      "outputs": [
        {
          "data": {
            "text/plain": [
              "1.217397313641425"
            ]
          },
          "execution_count": 11,
          "metadata": {},
          "output_type": "execute_result"
        }
      ],
      "source": [
        "np.std(X)"
      ]
    },
    {
      "cell_type": "markdown",
      "metadata": {},
      "source": [
        "## Compute clustering with MiniBatchKMeans\n",
        "\n"
      ]
    },
    {
      "cell_type": "code",
      "execution_count": 4,
      "metadata": {
        "collapsed": false
      },
      "outputs": [
        {
          "name": "stderr",
          "output_type": "stream",
          "text": [
            "C:\\Users\\t1714\\.conda\\envs\\meta_learning\\lib\\site-packages\\sklearn\\cluster\\_kmeans.py:1043: UserWarning: MiniBatchKMeans is known to have a memory leak on Windows with MKL, when there are less chunks than available threads. You can prevent it by setting batch_size >= 4096 or by setting the environment variable OMP_NUM_THREADS=1\n",
            "  warnings.warn(\n"
          ]
        }
      ],
      "source": [
        "from sklearn.cluster import MiniBatchKMeans\n",
        "\n",
        "mbk = MiniBatchKMeans(\n",
        "    init=\"k-means++\",\n",
        "    n_clusters=3,\n",
        "    batch_size=batch_size,\n",
        "    n_init=10,\n",
        "    max_no_improvement=10,\n",
        "    verbose=0,\n",
        ")\n",
        "t0 = time.time()\n",
        "mbk.fit(X)\n",
        "t_mini_batch = time.time() - t0"
      ]
    },
    {
      "cell_type": "markdown",
      "metadata": {},
      "source": [
        "## Establishing parity between clusters\n",
        "\n",
        "We want to have the same color for the same cluster from both the\n",
        "MiniBatchKMeans and the KMeans algorithm. Let's pair the cluster centers per\n",
        "closest one.\n",
        "\n"
      ]
    },
    {
      "cell_type": "code",
      "execution_count": 7,
      "metadata": {
        "collapsed": false
      },
      "outputs": [],
      "source": [
        "from sklearn.metrics.pairwise import pairwise_distances_argmin\n",
        "\n",
        "k_means_cluster_centers = k_means.cluster_centers_\n",
        "order = pairwise_distances_argmin(k_means.cluster_centers_, mbk.cluster_centers_)\n",
        "mbk_means_cluster_centers = mbk.cluster_centers_[order]\n",
        "\n",
        "k_means_labels = pairwise_distances_argmin(X, k_means_cluster_centers)\n",
        "mbk_means_labels = pairwise_distances_argmin(X, mbk_means_cluster_centers)"
      ]
    },
    {
      "cell_type": "code",
      "execution_count": 6,
      "metadata": {},
      "outputs": [
        {
          "name": "stdout",
          "output_type": "stream",
          "text": [
            "[[-1.07262225 -1.00554224]\n",
            " [ 1.07510478 -1.06937206]\n",
            " [ 0.96786467  1.0173955 ]]\n"
          ]
        }
      ],
      "source": [
        "print(k_means.cluster_centers_)"
      ]
    },
    {
      "cell_type": "markdown",
      "metadata": {},
      "source": [
        "## Plotting the results\n",
        "\n"
      ]
    },
    {
      "cell_type": "code",
      "execution_count": null,
      "metadata": {
        "collapsed": false
      },
      "outputs": [],
      "source": [
        "import matplotlib.pyplot as plt\n",
        "\n",
        "fig = plt.figure(figsize=(8, 3))\n",
        "fig.subplots_adjust(left=0.02, right=0.98, bottom=0.05, top=0.9)\n",
        "colors = [\"#4EACC5\", \"#FF9C34\", \"#4E9A06\"]\n",
        "\n",
        "# KMeans\n",
        "ax = fig.add_subplot(1, 3, 1)\n",
        "for k, col in zip(range(n_clusters), colors):\n",
        "    my_members = k_means_labels == k\n",
        "    cluster_center = k_means_cluster_centers[k]\n",
        "    ax.plot(X[my_members, 0], X[my_members, 1], \"w\", markerfacecolor=col, marker=\".\")\n",
        "    ax.plot(\n",
        "        cluster_center[0],\n",
        "        cluster_center[1],\n",
        "        \"o\",\n",
        "        markerfacecolor=col,\n",
        "        markeredgecolor=\"k\",\n",
        "        markersize=6,\n",
        "    )\n",
        "ax.set_title(\"KMeans\")\n",
        "ax.set_xticks(())\n",
        "ax.set_yticks(())\n",
        "plt.text(-3.5, 1.8, \"train time: %.2fs\\ninertia: %f\" % (t_batch, k_means.inertia_))\n",
        "\n",
        "# MiniBatchKMeans\n",
        "ax = fig.add_subplot(1, 3, 2)\n",
        "for k, col in zip(range(n_clusters), colors):\n",
        "    my_members = mbk_means_labels == k\n",
        "    cluster_center = mbk_means_cluster_centers[k]\n",
        "    ax.plot(X[my_members, 0], X[my_members, 1], \"w\", markerfacecolor=col, marker=\".\")\n",
        "    ax.plot(\n",
        "        cluster_center[0],\n",
        "        cluster_center[1],\n",
        "        \"o\",\n",
        "        markerfacecolor=col,\n",
        "        markeredgecolor=\"k\",\n",
        "        markersize=6,\n",
        "    )\n",
        "ax.set_title(\"MiniBatchKMeans\")\n",
        "ax.set_xticks(())\n",
        "ax.set_yticks(())\n",
        "plt.text(-3.5, 1.8, \"train time: %.2fs\\ninertia: %f\" % (t_mini_batch, mbk.inertia_))\n",
        "\n",
        "# Initialize the different array to all False\n",
        "different = mbk_means_labels == 4\n",
        "ax = fig.add_subplot(1, 3, 3)\n",
        "\n",
        "for k in range(n_clusters):\n",
        "    different += (k_means_labels == k) != (mbk_means_labels == k)\n",
        "\n",
        "identic = np.logical_not(different)\n",
        "ax.plot(X[identic, 0], X[identic, 1], \"w\", markerfacecolor=\"#bbbbbb\", marker=\".\")\n",
        "ax.plot(X[different, 0], X[different, 1], \"w\", markerfacecolor=\"m\", marker=\".\")\n",
        "ax.set_title(\"Difference\")\n",
        "ax.set_xticks(())\n",
        "ax.set_yticks(())\n",
        "\n",
        "plt.show()"
      ]
    }
  ],
  "metadata": {
    "kernelspec": {
      "display_name": "Python 3",
      "language": "python",
      "name": "python3"
    },
    "language_info": {
      "codemirror_mode": {
        "name": "ipython",
        "version": 3
      },
      "file_extension": ".py",
      "mimetype": "text/x-python",
      "name": "python",
      "nbconvert_exporter": "python",
      "pygments_lexer": "ipython3",
      "version": "3.8.12"
    }
  },
  "nbformat": 4,
  "nbformat_minor": 0
}
